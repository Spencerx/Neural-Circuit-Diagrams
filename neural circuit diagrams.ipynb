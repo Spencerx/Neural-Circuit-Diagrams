{
 "cells": [
  {
   "cell_type": "code",
   "execution_count": 1,
   "metadata": {},
   "outputs": [],
   "source": [
    "import torch\n",
    "import typing\n",
    "import functorch"
   ]
  },
  {
   "cell_type": "markdown",
   "metadata": {},
   "source": [
    "# 2.4 Broadcasting"
   ]
  },
  {
   "cell_type": "code",
   "execution_count": 14,
   "metadata": {},
   "outputs": [
    {
     "ename": "ValueError",
     "evalue": "vmap(G, in_dims=[None, 1], ...)(<inputs>): expected `in_dims` to be int or a (potentially nested) tuple matching the structure of inputs, got: <class 'list'>.",
     "output_type": "error",
     "traceback": [
      "\u001b[1;31m---------------------------------------------------------------------------\u001b[0m",
      "\u001b[1;31mValueError\u001b[0m                                Traceback (most recent call last)",
      "\u001b[1;32mc:\\Users\\vtabb\\Documents\\MLResearch\\ObsidianVault\\Code\\neural circuit diagrams.ipynb Cell 3\u001b[0m in \u001b[0;36m<module>\u001b[1;34m\u001b[0m\n\u001b[0;32m     <a href='vscode-notebook-cell:/c%3A/Users/vtabb/Documents/MLResearch/ObsidianVault/Code/neural%20circuit%20diagrams.ipynb#W2sZmlsZQ%3D%3D?line=52'>53</a>\u001b[0m \u001b[39mfor\u001b[39;00m k \u001b[39min\u001b[39;00m \u001b[39mrange\u001b[39m(d[\u001b[39m0\u001b[39m]):\n\u001b[0;32m     <a href='vscode-notebook-cell:/c%3A/Users/vtabb/Documents/MLResearch/ObsidianVault/Code/neural%20circuit%20diagrams.ipynb#W2sZmlsZQ%3D%3D?line=53'>54</a>\u001b[0m     \u001b[39massert\u001b[39;00m torch\u001b[39m.\u001b[39mallclose(G(Xa, Xbd[:,k]), Gd1(Xa, Xbd)[:,k])\n\u001b[1;32m---> <a href='vscode-notebook-cell:/c%3A/Users/vtabb/Documents/MLResearch/ObsidianVault/Code/neural%20circuit%20diagrams.ipynb#W2sZmlsZQ%3D%3D?line=54'>55</a>\u001b[0m     \u001b[39massert\u001b[39;00m torch\u001b[39m.\u001b[39mallclose(G(Xa, Xbd[:,k]), Gs1(Xa, Xbd)[:,k])\n",
      "File \u001b[1;32m~\\AppData\\Local\\Packages\\PythonSoftwareFoundation.Python.3.10_qbz5n2kfra8p0\\LocalCache\\local-packages\\Python310\\site-packages\\torch\\_functorch\\vmap.py:426\u001b[0m, in \u001b[0;36mvmap.<locals>.wrapped\u001b[1;34m(*args, **kwargs)\u001b[0m\n\u001b[0;32m    424\u001b[0m lazy_load_decompositions()\n\u001b[0;32m    425\u001b[0m _check_out_dims_is_int_or_int_pytree(out_dims, func)\n\u001b[1;32m--> 426\u001b[0m batch_size, flat_in_dims, flat_args, args_spec \u001b[39m=\u001b[39m _process_batched_inputs(in_dims, args, func)\n\u001b[0;32m    428\u001b[0m \u001b[39mif\u001b[39;00m chunk_size \u001b[39mis\u001b[39;00m \u001b[39mnot\u001b[39;00m \u001b[39mNone\u001b[39;00m:\n\u001b[0;32m    429\u001b[0m     chunks_flat_args \u001b[39m=\u001b[39m _get_chunked_inputs(flat_args, flat_in_dims, batch_size, chunk_size)\n",
      "File \u001b[1;32m~\\AppData\\Local\\Packages\\PythonSoftwareFoundation.Python.3.10_qbz5n2kfra8p0\\LocalCache\\local-packages\\Python310\\site-packages\\torch\\_functorch\\vmap.py:79\u001b[0m, in \u001b[0;36m_process_batched_inputs\u001b[1;34m(in_dims, args, func)\u001b[0m\n\u001b[0;32m     75\u001b[0m \u001b[39mdef\u001b[39;00m \u001b[39m_process_batched_inputs\u001b[39m(\n\u001b[0;32m     76\u001b[0m     in_dims: in_dims_t, args: Tuple, func: Callable\n\u001b[0;32m     77\u001b[0m ) \u001b[39m-\u001b[39m\u001b[39m>\u001b[39m Tuple[\u001b[39mint\u001b[39m, List[Any], List[Any], TreeSpec]:\n\u001b[0;32m     78\u001b[0m     \u001b[39mif\u001b[39;00m \u001b[39mnot\u001b[39;00m \u001b[39misinstance\u001b[39m(in_dims, \u001b[39mint\u001b[39m) \u001b[39mand\u001b[39;00m \u001b[39mnot\u001b[39;00m \u001b[39misinstance\u001b[39m(in_dims, \u001b[39mtuple\u001b[39m):\n\u001b[1;32m---> 79\u001b[0m         \u001b[39mraise\u001b[39;00m \u001b[39mValueError\u001b[39;00m(\n\u001b[0;32m     80\u001b[0m             \u001b[39mf\u001b[39m\u001b[39m'\u001b[39m\u001b[39mvmap(\u001b[39m\u001b[39m{\u001b[39;00m_get_name(func)\u001b[39m}\u001b[39;00m\u001b[39m, in_dims=\u001b[39m\u001b[39m{\u001b[39;00min_dims\u001b[39m}\u001b[39;00m\u001b[39m, ...)(<inputs>): \u001b[39m\u001b[39m'\u001b[39m\n\u001b[0;32m     81\u001b[0m             \u001b[39mf\u001b[39m\u001b[39m'\u001b[39m\u001b[39mexpected `in_dims` to be int or a (potentially nested) tuple \u001b[39m\u001b[39m'\u001b[39m\n\u001b[0;32m     82\u001b[0m             \u001b[39mf\u001b[39m\u001b[39m'\u001b[39m\u001b[39mmatching the structure of inputs, got: \u001b[39m\u001b[39m{\u001b[39;00m\u001b[39mtype\u001b[39m(in_dims)\u001b[39m}\u001b[39;00m\u001b[39m.\u001b[39m\u001b[39m'\u001b[39m)\n\u001b[0;32m     83\u001b[0m     \u001b[39mif\u001b[39;00m \u001b[39mlen\u001b[39m(args) \u001b[39m==\u001b[39m \u001b[39m0\u001b[39m:\n\u001b[0;32m     84\u001b[0m         \u001b[39mraise\u001b[39;00m \u001b[39mValueError\u001b[39;00m(\n\u001b[0;32m     85\u001b[0m             \u001b[39mf\u001b[39m\u001b[39m'\u001b[39m\u001b[39mvmap(\u001b[39m\u001b[39m{\u001b[39;00m_get_name(func)\u001b[39m}\u001b[39;00m\u001b[39m)(<inputs>): got no inputs. Maybe you forgot to add \u001b[39m\u001b[39m'\u001b[39m\n\u001b[0;32m     86\u001b[0m             \u001b[39mf\u001b[39m\u001b[39m'\u001b[39m\u001b[39minputs, or you are trying to vmap over a function with no inputs. \u001b[39m\u001b[39m'\u001b[39m\n\u001b[0;32m     87\u001b[0m             \u001b[39mf\u001b[39m\u001b[39m'\u001b[39m\u001b[39mThe latter is unsupported.\u001b[39m\u001b[39m'\u001b[39m)\n",
      "\u001b[1;31mValueError\u001b[0m: vmap(G, in_dims=[None, 1], ...)(<inputs>): expected `in_dims` to be int or a (potentially nested) tuple matching the structure of inputs, got: <class 'list'>."
     ]
    }
   ],
   "source": [
    "a = [3]\n",
    "b = [4]\n",
    "c = [5]\n",
    "\n",
    "tt = torch.Tensor\n",
    "\n",
    "# F: a -> b\n",
    "def F(Xa: tt) -> tt:\n",
    "    return sum(Xa**2) + torch.ones(b)\n",
    "\n",
    "# A raw definition,\n",
    "# F c: a c -> b c\n",
    "def Fc(Xac: tt) -> tt:\n",
    "    Ybc = torch.zeros(b + c)\n",
    "    for j in range(c[0]):\n",
    "        Ybc[:,j] = F(Xac[:,j])\n",
    "    return Ybc\n",
    "\n",
    "# Broadcast using PyTorch,\n",
    "# F *: a -> b *\n",
    "Fs = torch.vmap(F, -1, -1)\n",
    "\n",
    "# We can show this satisfies Definition 2.13 by,\n",
    "Xac = torch.rand(a + c)\n",
    "\n",
    "for k in range(c[0]):\n",
    "    assert torch.allclose(F(Xac[:,k]), Fc(Xac)[:,k])\n",
    "    assert torch.allclose(F(Xac[:,k]), Fs(Xac)[:,k])\n",
    "\n",
    "\n",
    "# G: a + b -> c\n",
    "def G(Xa: tt, Xb: tt) -> tt:\n",
    "    return torch.sum(torch.sqrt(Xa**2)) + torch.sum(torch.sqrt(Xb ** 2))  + torch.ones(c)\n",
    "\n",
    "d = [3]\n",
    "\n",
    "# We can implement inner broadcasting by,\n",
    "# G d1: a + (b d) -> c d\n",
    "def Gd1(Xa: tt, Xbd : tt) -> tt:\n",
    "    Ycd = torch.zeros(c + d)\n",
    "    for k in range(d[0]):\n",
    "        Ycd[:, k] = G(Xa, Xbd[:,k])\n",
    "    return Ycd\n",
    "\n",
    "# Broadcast using PyTorch,\n",
    "# G *1: a + (b *) -> c *\n",
    "Gs1 = torch.vmap(G, (None,1), 1)\n",
    "\n",
    "# We can show this satisfies Definition 2.14 by,\n",
    "Xa = torch.rand(a)\n",
    "Xbd = torch.rand(b + d)\n",
    "\n",
    "for k in range(d[0]):\n",
    "    assert torch.allclose(G(Xa, Xbd[:,k]), Gd1(Xa, Xbd)[:,k])\n",
    "    assert torch.allclose(G(Xa, Xbd[:,k]), Gs1(Xa, Xbd)[:,k])"
   ]
  }
 ],
 "metadata": {
  "kernelspec": {
   "display_name": "Python 3",
   "language": "python",
   "name": "python3"
  },
  "language_info": {
   "codemirror_mode": {
    "name": "ipython",
    "version": 3
   },
   "file_extension": ".py",
   "mimetype": "text/x-python",
   "name": "python",
   "nbconvert_exporter": "python",
   "pygments_lexer": "ipython3",
   "version": "3.10.11"
  },
  "orig_nbformat": 4
 },
 "nbformat": 4,
 "nbformat_minor": 2
}
