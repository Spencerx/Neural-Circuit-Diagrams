{
 "cells": [
  {
   "cell_type": "code",
   "execution_count": 1,
   "metadata": {},
   "outputs": [],
   "source": [
    "import torch\n",
    "import typing\n",
    "import functorch"
   ]
  },
  {
   "cell_type": "markdown",
   "metadata": {},
   "source": [
    "# 2.4 Broadcasting\n",
    "![Alt text](https://mirrors.creativecommons.org/presskit/logos/cc.logo.svg)"
   ]
  },
  {
   "cell_type": "code",
   "execution_count": 16,
   "metadata": {},
   "outputs": [],
   "source": [
    "a = [3]\n",
    "b = [4]\n",
    "c = [5]\n",
    "d = [3]\n",
    "tt = torch.Tensor\n",
    "\n",
    "# F: a -> b\n",
    "def F(Xa: tt) -> tt:\n",
    "    return sum(Xa**2) + torch.ones(b)\n",
    "\n",
    "# A raw definition,\n",
    "# F c: a c -> b c\n",
    "def Fc(Xac: tt) -> tt:\n",
    "    Ybc = torch.zeros(b + c)\n",
    "    for j in range(c[0]):\n",
    "        Ybc[:,j] = F(Xac[:,j])\n",
    "    return Ybc\n",
    "\n",
    "# Broadcast using PyTorch,\n",
    "# F *: a -> b *\n",
    "Fs = torch.vmap(F, -1, -1)\n",
    "\n",
    "# We can show this satisfies Definition 2.13 by,\n",
    "Xac = torch.rand(a + c)\n",
    "\n",
    "for k in range(c[0]):\n",
    "    assert torch.allclose(F(Xac[:,k]), Fc(Xac)[:,k])\n",
    "    assert torch.allclose(F(Xac[:,k]), Fs(Xac)[:,k])\n",
    "\n",
    "\n",
    "# G: a + b -> c\n",
    "def G(Xa: tt, Xb: tt) -> tt:\n",
    "    return torch.sum(torch.sqrt(Xa**2)) + torch.sum(torch.sqrt(Xb ** 2))  + torch.ones(c)\n",
    "\n",
    "\n",
    "\n",
    "# We can implement inner broadcasting by,\n",
    "# G d1: a + (b d) -> c d\n",
    "def Gd1(Xa: tt, Xbd : tt) -> tt:\n",
    "    Ycd = torch.zeros(c + d)\n",
    "    for k in range(d[0]):\n",
    "        Ycd[:, k] = G(Xa, Xbd[:,k])\n",
    "    return Ycd\n",
    "\n",
    "# Broadcast using PyTorch,\n",
    "# G *1: a + (b *) -> c *\n",
    "Gs1 = torch.vmap(G, (None,1), 1)\n",
    "\n",
    "# We can show this satisfies Definition 2.14 by,\n",
    "Xa = torch.rand(a)\n",
    "Xbd = torch.rand(b + d)\n",
    "\n",
    "for k in range(d[0]):\n",
    "    assert torch.allclose(G(Xa, Xbd[:,k]), Gd1(Xa, Xbd)[:,k])\n",
    "    assert torch.allclose(G(Xa, Xbd[:,k]), Gs1(Xa, Xbd)[:,k])\n",
    "\n",
    "# Elementwise operations are implemented as usual ie\n",
    "# f: 1 -> 1\n",
    "def f(x):\n",
    "    return x ** 2\n",
    "\n",
    "# f *: * -> *\n",
    "fs = torch.vmap(f)\n",
    "\n",
    "Xa = torch.rand(a)\n",
    "for i in range(a[0]):\n",
    "    assert torch.allclose(f(Xa[i]), fs(Xa)[i])\n",
    "\n",
    "# The different forms of addition line up with PyTorch broadcasting, \n",
    "# with slight modifications.\n",
    "\n"
   ]
  },
  {
   "cell_type": "code",
   "execution_count": 21,
   "metadata": {},
   "outputs": [
    {
     "name": "stdout",
     "output_type": "stream",
     "text": [
      "{'x': tensor([0.1909]), 'y': tensor([0.9223])}\n",
      "{'z': tensor([1.1132])}\n"
     ]
    },
    {
     "data": {
      "text/plain": [
       "tensor([1.1132])"
      ]
     },
     "execution_count": 21,
     "metadata": {},
     "output_type": "execute_result"
    }
   ],
   "source": [
    "# Addition\n",
    "# Variables are implicitly deleted if not copied. This sequence of variables\n",
    "# therefore gives an idea of what the first part of Figure 5 is implying\n",
    "def give_xy():\n",
    "    x, y = torch.rand(1), torch.rand(1)\n",
    "    print(locals())\n",
    "    return x, y\n",
    "\n",
    "def give_z():\n",
    "    z = sum(give_xy())\n",
    "    print(locals())\n",
    "    return z\n",
    "\n",
    "give_z()\n",
    "\n",
    "# The other addition operators are analogous to PyTorch broadcasts\n",
    "i = [3]\n",
    "j = [4]\n",
    "\n",
    "def distribute_and_broadcast(X0i, X1i):\n",
    "    return X0i + X1i\n",
    "def inner_broadcast(Xi : tt, Xj : tt):\n",
    "    Xi.view()\n"
   ]
  }
 ],
 "metadata": {
  "kernelspec": {
   "display_name": "Python 3",
   "language": "python",
   "name": "python3"
  },
  "language_info": {
   "codemirror_mode": {
    "name": "ipython",
    "version": 3
   },
   "file_extension": ".py",
   "mimetype": "text/x-python",
   "name": "python",
   "nbconvert_exporter": "python",
   "pygments_lexer": "ipython3",
   "version": "3.10.11"
  },
  "orig_nbformat": 4
 },
 "nbformat": 4,
 "nbformat_minor": 2
}
