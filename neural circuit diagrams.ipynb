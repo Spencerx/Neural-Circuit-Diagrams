{
 "cells": [
  {
   "cell_type": "code",
   "execution_count": 1,
   "metadata": {},
   "outputs": [],
   "source": [
    "import torch\n",
    "import typing\n",
    "import functorch\n",
    "import itertools"
   ]
  },
  {
   "cell_type": "markdown",
   "metadata": {},
   "source": [
    "# 2.3 Tensored Shapes\n",
    "<img src=\"SVG/tensoredshapes.svg\" width=\"700\">"
   ]
  },
  {
   "cell_type": "code",
   "execution_count": 2,
   "metadata": {},
   "outputs": [],
   "source": [
    "# Tensored shapes actually express a rather simple relationship. The definition attached to the diagram can be shown as;\n",
    "a, b = [3], [4]\n",
    "Xab = torch.rand(a + b)\n",
    "for i, j in itertools.product(range(a[0]), range(b[0])):\n",
    "    assert Xab[i, j] == Xab[i, :][j]\n",
    "    assert Xab[i, j] == Xab[:, j][i]"
   ]
  },
  {
   "cell_type": "markdown",
   "metadata": {},
   "source": [
    "# 2.4 Broadcasting\n",
    "## Definition 2.13 (Broadcasting with indexes)\n",
    "<img src=\"SVG/broadcasting_indexes.svg\" width=\"700\">"
   ]
  },
  {
   "cell_type": "code",
   "execution_count": 3,
   "metadata": {},
   "outputs": [],
   "source": [
    "a, b, c, d = [3], [4], [5], [3]\n",
    "tt = torch.Tensor\n",
    "\n",
    "# We have some function from a to b;\n",
    "def F(Xa: tt) -> tt:\n",
    "    \"\"\" F: a -> b \"\"\"\n",
    "    return sum(Xa**2) + torch.ones(b)\n",
    "\n",
    "# We could bootstrap a definition of broadcasting,\n",
    "# Note that we are using spaces to indicate tensoring. \n",
    "# We will use commas for tupling, which is in line with standard notation while writing code.\n",
    "def Fc(Xac: tt) -> tt:\n",
    "    \"\"\" F c : a c -> b c \"\"\"\n",
    "    Ybc = torch.zeros(b + c)\n",
    "    for j in range(c[0]):\n",
    "        Ybc[:,j] = F(Xac[:,j])\n",
    "    return Ybc\n",
    "\n",
    "# Or use a PyTorch command,\n",
    "# F *: a * -> b *\n",
    "Fs = torch.vmap(F, -1, -1)\n",
    "\n",
    "# We feed a random input, and see whether Definition 2.13 is satisfied,\n",
    "Xac = torch.rand(a + c)\n",
    "for k in range(c[0]):\n",
    "    assert torch.allclose(F(Xac[:,k]), Fc(Xac)[:,k])\n",
    "    assert torch.allclose(F(Xac[:,k]), Fs(Xac)[:,k])\n",
    "\n",
    "# This shows how our definition of broadcasting lines up with that used by PyTorch vmap."
   ]
  },
  {
   "cell_type": "markdown",
   "metadata": {},
   "source": [
    "## Definition 2.14 (Inner broadcasting)\n",
    "<img src=\"SVG/inner_broadcasting.svg\" width=\"700\">"
   ]
  },
  {
   "cell_type": "code",
   "execution_count": 4,
   "metadata": {},
   "outputs": [],
   "source": [
    "# We have some function which can be inner broadcast,\n",
    "def G(Xa: tt, Xb: tt) -> tt:\n",
    "    \"\"\" G: a, b -> c\"\"\"\n",
    "    return torch.sum(torch.sqrt(Xa**2)) + torch.sum(torch.sqrt(Xb ** 2))  + torch.ones(c)\n",
    "\n",
    "# We can bootstrap inner broadcasting,\n",
    "def Gd1(Xa: tt, Xbd : tt) -> tt:\n",
    "    \"\"\" G d1: a, b d -> c d\"\"\"\n",
    "    Ycd = torch.zeros(c + d)\n",
    "    for k in range(d[0]):\n",
    "        Ycd[:, k] = G(Xa, Xbd[:,k])\n",
    "    return Ycd\n",
    "\n",
    "# But vmap offers a clear way of doing it,\n",
    "# G *1: a + (b *) -> c *\n",
    "Gs1 = torch.vmap(G, (None,1), 1)\n",
    "\n",
    "# We can show this satisfies Definition 2.14 by,\n",
    "Xa = torch.rand(a)\n",
    "Xbd = torch.rand(b + d)\n",
    "for k in range(d[0]):\n",
    "    assert torch.allclose(G(Xa, Xbd[:,k]), Gd1(Xa, Xbd)[:,k])\n",
    "    assert torch.allclose(G(Xa, Xbd[:,k]), Gs1(Xa, Xbd)[:,k])\n"
   ]
  },
  {
   "cell_type": "markdown",
   "metadata": {},
   "source": [
    "# 2.5 Elementwise Operations\n",
    "<img src=\"SVG/elementwise.svg\" width=\"700\">"
   ]
  },
  {
   "cell_type": "code",
   "execution_count": 5,
   "metadata": {},
   "outputs": [],
   "source": [
    "\n",
    "# Elementwise operations are implemented as usual ie\n",
    "def f(x):\n",
    "    \"f : 1 -> 1\"\n",
    "    return x ** 2\n",
    "\n",
    "# We broadcast an elementwise operation,\n",
    "# f *: * -> *\n",
    "fs = torch.vmap(f)\n",
    "\n",
    "Xa = torch.rand(a)\n",
    "for i in range(a[0]):\n",
    "    # And see that it aligns with the index before = index after framework.\n",
    "    assert torch.allclose(f(Xa[i]), fs(Xa)[i])\n",
    "    # But, elementwise operations are implied, so no special implementation is needed. \n",
    "    assert torch.allclose(f(Xa[i]), f(Xa)[i])"
   ]
  },
  {
   "cell_type": "markdown",
   "metadata": {},
   "source": [
    "# 2.6 Addition and Copying\n",
    "<img src=\"SVG/utility_morphisms.svg\" width=\"700\">"
   ]
  },
  {
   "cell_type": "code",
   "execution_count": 6,
   "metadata": {},
   "outputs": [
    {
     "name": "stdout",
     "output_type": "stream",
     "text": [
      "{'x': tensor([0.4905]), 'y': tensor([0.9016])}\n",
      "{'z': tensor([1.3921])}\n"
     ]
    },
    {
     "data": {
      "text/plain": [
       "tensor([1.3921])"
      ]
     },
     "execution_count": 6,
     "metadata": {},
     "output_type": "execute_result"
    }
   ],
   "source": [
    "# The different forms of addition line up with PyTorch broadcasting, with slight modifications.\n",
    "\n",
    "# The first diagrams - adding a tuple of singular values - is clear.\n",
    "# More precisely, local memory *only* contains the variables indicated by each shape.\n",
    "# Therefore, the initial x, y values are deleted when z is calculated.\n",
    "def give_xy():\n",
    "    \"\"\" -> 1, 1 \"\"\"\n",
    "    x, y = torch.rand(1), torch.rand(1)\n",
    "    print(locals())\n",
    "    return x, y\n",
    "def give_z():\n",
    "    \"\"\" 1, 1 -> 1 \"\"\"\n",
    "    z = sum(give_xy())\n",
    "    print(locals())\n",
    "    return z\n",
    "give_z()"
   ]
  },
  {
   "cell_type": "code",
   "execution_count": 7,
   "metadata": {},
   "outputs": [],
   "source": [
    "# The other addition operators are analogous to PyTorch broadcasts.\n",
    "i, j = [3], [4]\n",
    "\n",
    "def distribute_and_broadcast(X0i, X1i):\n",
    "    \"\"\" i, i -> i \"\"\"\n",
    "    return X0i + X1i\n",
    "def inner_broadcast_0(Xi : tt, Xj : tt):\n",
    "    \"\"\" i, j -> i j \"\"\"\n",
    "    return Xi.view(Xi.shape + [1]) + Xj.view([1] + Xj.shape)\n",
    "def adding_tuples(X0ij : tt, X1ij : tt):\n",
    "    \"\"\" (i, j), (i, j) -> i j \"\"\"\n",
    "    return X0ij + X1ij\n",
    "def inner_broadcast_1(Xi: tt, Xij: tt):\n",
    "    \"\"\" i, i j -> i j \"\"\"\n",
    "    return Xi.view(Xi.shape + [1]) + Xij\n",
    "\n",
    "# Copying automatically broadcasts. \n",
    "# Other than copying, everything we do is inplace. \n",
    "# In PyTorch, this is indicated by functions starting with _\n",
    "# Copying is properly given by the clone operation.\n",
    "def copy(x : tt):\n",
    "    \"\"\" a -> a, a \"\"\"\n",
    "    return x, torch.clone(x)\n"
   ]
  },
  {
   "cell_type": "code",
   "execution_count": 8,
   "metadata": {},
   "outputs": [],
   "source": [
    "import math\n",
    "import einops\n",
    "x, y, k, h = [5], [3], [4], [2]\n",
    "Q = torch.rand(y + k + h)\n",
    "K = torch.rand(x + k + h)\n",
    "k = 4\n",
    "\n",
    "# Local memory contains,\n",
    "# Q: y k h # K: x k h\n",
    "# Outer products, transposes, inner products, and\n",
    "# diagonalization reduce to einops expressions.\n",
    "# Transpose K,\n",
    "K = einops.einsum(K, 'x k h -> k x h')\n",
    "# Outer product and diagonalize,\n",
    "X = einops.einsum(Q, K, 'y k1 h, k2 x h -> y k1 k2 x h')\n",
    "# Inner product,\n",
    "X = einops.einsum(X, 'y k k x h -> y x h')\n",
    "# Scale,\n",
    "X = X / math.sqrt(k)\n",
    "\n",
    "x, y, k, h = [5], [3], [4], [2]\n",
    "Q = torch.rand(y + k + h)\n",
    "K = torch.rand(x + k + h)\n",
    "k = 4\n",
    "\n",
    "# Local memory contains,\n",
    "# Q: y k h # K: x k h\n",
    "X = einops.einsum(Q, K, 'y k h, x k h -> y x h')\n",
    "X = X / math.sqrt(k)\n"
   ]
  },
  {
   "cell_type": "markdown",
   "metadata": {},
   "source": [
    "# 2.10 Summing Over and Rearranging Data\n",
    "<img src=\"SVG/common_operations.svg\" width=\"700\">"
   ]
  },
  {
   "cell_type": "code",
   "execution_count": 9,
   "metadata": {},
   "outputs": [],
   "source": [
    "import math\n",
    "import einops\n",
    "\n",
    "# Summing over and rearranging data are common operations. \n",
    "# As they are linear, they can be simultaneously applied.\n",
    "# Scaled dot product attention is an operation that is difficult to express with standard notation,\n",
    "# implementing a diagram as code will teach us about using the einsum package in conjunction with\n",
    "# neural circuit diagrams.\n",
    "y, k, heads, x = [16], [32], [8], [12]\n",
    "\n",
    "def MultiHeadDotProductAttention(q: tt, k: tt, v: tt) -> tt:\n",
    "    ''' y k h, x k h, x k h -> y k h '''\n",
    "    klength = k.size()[-2]\n",
    "    x = einops.einsum(q, k, '... y k h, ... x k h -> ... y x h')\n",
    "    x = torch.nn.Softmax(-2)(x / math.sqrt(klength))\n",
    "    x = einops.einsum(x, v, '... y x h, ... x k h -> ... y k h')\n",
    "    return x"
   ]
  },
  {
   "cell_type": "code",
   "execution_count": 10,
   "metadata": {},
   "outputs": [],
   "source": [
    "# As an exercise, we can track the memory usage *exactly*;\n",
    "Q, K, V = torch.rand(y+k+heads), torch.rand(x+k+heads), torch.rand(x + k + heads)\n",
    "X, V    = einops.einsum(Q, K, 'y k h,x k h -> y x h'), V\n",
    "del Q, K\n",
    "X, V    = torch.nn.Softmax(-2)(X / math.sqrt(k[0])), V\n",
    "X       = einops.einsum(X, V, 'y x h,x k h -> y k h')\n",
    "del V"
   ]
  },
  {
   "cell_type": "code",
   "execution_count": 11,
   "metadata": {},
   "outputs": [
    {
     "ename": "NameError",
     "evalue": "name 'Q' is not defined",
     "output_type": "error",
     "traceback": [
      "\u001b[1;31m---------------------------------------------------------------------------\u001b[0m",
      "\u001b[1;31mNameError\u001b[0m                                 Traceback (most recent call last)",
      "\u001b[1;32mc:\\Users\\vtabb\\Documents\\MLResearch\\ObsidianVault\\Code\\neural circuit diagrams.ipynb Cell 17\u001b[0m in \u001b[0;36m<module>\u001b[1;34m\u001b[0m\n\u001b[0;32m      <a href='vscode-notebook-cell:/c%3A/Users/vtabb/Documents/MLResearch/ObsidianVault/Code/neural%20circuit%20diagrams.ipynb#X22sZmlsZQ%3D%3D?line=0'>1</a>\u001b[0m \u001b[39m# Local memory contains,\u001b[39;00m\n\u001b[0;32m      <a href='vscode-notebook-cell:/c%3A/Users/vtabb/Documents/MLResearch/ObsidianVault/Code/neural%20circuit%20diagrams.ipynb#X22sZmlsZQ%3D%3D?line=1'>2</a>\u001b[0m \u001b[39m# Q: y k h # K: x k h\u001b[39;00m\n\u001b[0;32m      <a href='vscode-notebook-cell:/c%3A/Users/vtabb/Documents/MLResearch/ObsidianVault/Code/neural%20circuit%20diagrams.ipynb#X22sZmlsZQ%3D%3D?line=2'>3</a>\u001b[0m \u001b[39m# Transpose K\u001b[39;00m\n\u001b[1;32m----> <a href='vscode-notebook-cell:/c%3A/Users/vtabb/Documents/MLResearch/ObsidianVault/Code/neural%20circuit%20diagrams.ipynb#X22sZmlsZQ%3D%3D?line=3'>4</a>\u001b[0m Q, K \u001b[39m=\u001b[39m Q, einops\u001b[39m.\u001b[39meinsum(K, \u001b[39m'\u001b[39m\u001b[39mx k h -> k x h\u001b[39m\u001b[39m'\u001b[39m)\n\u001b[0;32m      <a href='vscode-notebook-cell:/c%3A/Users/vtabb/Documents/MLResearch/ObsidianVault/Code/neural%20circuit%20diagrams.ipynb#X22sZmlsZQ%3D%3D?line=4'>5</a>\u001b[0m \u001b[39m# Implicit outer product and diagonalize\u001b[39;00m\n\u001b[0;32m      <a href='vscode-notebook-cell:/c%3A/Users/vtabb/Documents/MLResearch/ObsidianVault/Code/neural%20circuit%20diagrams.ipynb#X22sZmlsZQ%3D%3D?line=5'>6</a>\u001b[0m X \u001b[39m=\u001b[39m einops\u001b[39m.\u001b[39meinsum(Q, K, \u001b[39m'\u001b[39m\u001b[39my k h, k x h -> y k1 k2 x h\u001b[39m\u001b[39m'\u001b[39m)\n",
      "\u001b[1;31mNameError\u001b[0m: name 'Q' is not defined"
     ]
    }
   ],
   "source": [
    "# Local memory contains,\n",
    "# Q: y k h # K: x k h\n",
    "# Transpose K\n",
    "Q, K = Q, einops.einsum(K, 'x k h -> k x h')\n",
    "# Implicit outer product and diagonalize\n",
    "X = einops.einsum(Q, K, 'y k h, k x h -> y k1 k2 x h')\n",
    "# Inner product\n",
    "X = einops.einsum(X, 'y k k x h -> y x h')\n",
    "# Scale\n",
    "X = X / math.sqrt(k)"
   ]
  },
  {
   "cell_type": "code",
   "execution_count": null,
   "metadata": {},
   "outputs": [],
   "source": [
    "# Local memory contains,\n",
    "# Q: y k h # K: x k h\n",
    "X = einops.einsum(Q, K, 'y k h,x k h->y x h')\n",
    "X = X / math.sqrt(k)"
   ]
  },
  {
   "cell_type": "markdown",
   "metadata": {},
   "source": [
    "# 2.11 Associated Tensors and Linear Algebra\n",
    "<img src=\"SVG/associated_tensors.svg\" width=\"700\">"
   ]
  },
  {
   "cell_type": "code",
   "execution_count": null,
   "metadata": {},
   "outputs": [],
   "source": [
    "a, b, c, d = [3], [4], [5], [3]\n",
    "\n",
    "# We will be using this guy *a lot*\n",
    "es = einops.einsum\n",
    "\n",
    "# F: a b c\n",
    "F_matrix = torch.rand(a + b + c)\n",
    "\n",
    "# As an exericse we will show that F: a -> b c can be transposed in two ways.\n",
    "# Either, we can broadcast, or take an outer product. We will show these are the same.\n",
    "\n",
    "# Transposing by broadcasting\n",
    "# \n",
    "def F_func(Xa: tt):\n",
    "    \"\"\" F: a -> b c \"\"\"\n",
    "    return es(Xa,F_matrix,'a,a b c->b c',)\n",
    "# * F: * a -> * b c\n",
    "F_broadcast = torch.vmap(F_func, 0, 0)\n",
    "\n",
    "# We then reduce it, as in the diagram,\n",
    "# b a -> b b c -> c\n",
    "def F_broadcast_transpose(Xba: tt):\n",
    "    \"\"\" (b F) (.b c): b a -> c \"\"\"\n",
    "    Xbbc = F_broadcast(Xba)\n",
    "    return es(Xbbc, 'b b c -> c')\n",
    "\n",
    "# Transpoing by linearity\n",
    "#\n",
    "# We take the outer product of Id(b) and F, and follow up with a dot product.\n",
    "# This gives us,\n",
    "F_outerproduct = es(torch.eye(b[0]), F_matrix,'b0 b1, a b2 c->b0 b1 a b2 c',)\n",
    "# Think of this as Id(b) F: b0 a -> b1 b2 c\n",
    "# We then take the dot product\n",
    "F_linear_transpose = es(F_outerproduct,'b B a B c->b a c',)\n",
    "\n",
    "# We contend that these are the same.\n",
    "#\n",
    "Xba = torch.rand(b + a)\n",
    "assert torch.allclose(\n",
    "    F_broadcast_transpose(Xba), \n",
    "    es(Xba,F_linear_transpose, 'b a, b a c -> c'))\n",
    "\n",
    "# Furthermore, lets prove the Kronecker Delta-Dot product identity.\n",
    "#\n",
    "# The first step is an outer product with the Kronecker delta,\n",
    "outerKronecker = lambda Xb: es(Xb, torch.eye(b[0]), 'b0, b1 b2 -> b0 b1 b2')\n",
    "# The next is a dot product over the first two axes,\n",
    "dotOuter = lambda Xbbb: es(Xbbb, 'b0 b0 b1 -> b1')\n",
    "# Applying both of these *should* be the identity, and hence leave any input unchanged.\n",
    "Xb = torch.rand(b)\n",
    "assert torch.allclose(\n",
    "    Xb,\n",
    "    dotOuter(outerKronecker(Xb)))\n",
    "\n",
    "# Therefore, we can confidently use the expressions in Figure 8 to manipulate expressions."
   ]
  },
  {
   "cell_type": "markdown",
   "metadata": {},
   "source": [
    "# 3.1 Basic Multi-Layer Perceptron\n",
    "<img src=\"SVG/imagerec.svg\" width=\"700\">"
   ]
  },
  {
   "cell_type": "code",
   "execution_count": null,
   "metadata": {},
   "outputs": [
    {
     "data": {
      "text/plain": [
       "Softmax(\n",
       "  dim=tensor([[ 0.0282,  0.0299, -0.0271, -0.0193, -0.0753,  0.1084, -0.0097,  0.0123,\n",
       "           -0.0920,  0.1043]], grad_fn=<AddmmBackward0>)\n",
       ")"
      ]
     },
     "execution_count": 20,
     "metadata": {},
     "output_type": "execute_result"
    }
   ],
   "source": [
    "import torch.nn as nn\n",
    "\n",
    "# Basic Image Recogniser\n",
    "# This is a close copy of an introductory PyTorch tutorial:\n",
    "# https://pytorch.org/tutorials/beginner/basics/buildmodel_tutorial.html\n",
    "class NeuralNetwork(nn.Module):\n",
    "    def __init__(self):\n",
    "        super().__init__()\n",
    "        self.flatten = nn.Flatten()\n",
    "        self.linear_relu_stack = nn.Sequential(\n",
    "            nn.Linear(28*28, 512),\n",
    "            nn.ReLU(),\n",
    "            nn.Linear(512, 512),\n",
    "            nn.ReLU(),\n",
    "            nn.Linear(512, 10),\n",
    "        )\n",
    "    def forward(self, x):\n",
    "        x = self.flatten(x)\n",
    "        x = self.linear_relu_stack(x)\n",
    "        y_pred = nn.Softmax(x)\n",
    "        return y_pred\n",
    "    \n",
    "my_NeuralNetwork = NeuralNetwork()\n",
    "my_NeuralNetwork.forward(torch.rand([1,28,28]))"
   ]
  },
  {
   "cell_type": "markdown",
   "metadata": {},
   "source": [
    "# 3.2 Multi-Head Attention\n",
    "<img src=\"SVG/multihead_attention.svg\" width=\"700\">\n",
    "\n",
    "We will be implementing this algorithm. This shows us how we go from diagrams to implementations, and begins to give an idea of how organized diagrams leads to organized code."
   ]
  },
  {
   "cell_type": "code",
   "execution_count": null,
   "metadata": {},
   "outputs": [],
   "source": [
    "# Defined previously, closely follows the diagram.\n",
    "def MultiHeadDotProductAttention(q: tt, k: tt, v: tt) -> tt:\n",
    "    ''' ykh, xkh, xkh -> ykh '''\n",
    "    klength = k.size()[-2]\n",
    "    x = einops.einsum(q, k, '... y k h, ... x k h -> ... y x h')\n",
    "    x = torch.nn.Softmax(-2)(x / math.sqrt(klength))\n",
    "    x = einops.einsum(x, v, '... y x h, ... x k h -> ... y k h')\n",
    "    return x\n",
    "\n",
    "# We implement this component as a neural network model.\n",
    "# This is necessary when there are bold, learned components that need to be initialized.\n",
    "class MultiHeadAttention(nn.Module):\n",
    "    # Multi-Head attention has various settings, which become variables\n",
    "    # for the initializer.\n",
    "    def __init__(self, m, k, h):\n",
    "        super().__init__()\n",
    "        self.m, self.k, self.h = m, k, h\n",
    "        # Set up all the boldface, learned components\n",
    "        # Note how they bind axes we want to split, which we do later with einops.\n",
    "        self.Lq = nn.Linear(m, k*h, False)\n",
    "        self.Lk = nn.Linear(m, k*h, False)\n",
    "        self.Lv = nn.Linear(m, k*h, False)\n",
    "        self.Lo = nn.Linear(k*h, m, False)\n",
    "\n",
    "\n",
    "    # We have endogenous data (Eym) and external / injected data (Xxm)\n",
    "    def forward(self, Eym, Xxm):\n",
    "        \"\"\" y m, x m -> y m \"\"\"\n",
    "        # We first generate query, key, and value vectors.\n",
    "        # Linear layers are automatically broadcast.\n",
    "\n",
    "        # However, the k and h axes are bound. We define an unbinder to handle the outputs,\n",
    "        unbind = lambda x: einops.rearrange(x, '... (k h)->... k h', h=self.h)\n",
    "        q = unbind(self.Lq(Eym))\n",
    "        k = unbind(self.Lk(Xxm))\n",
    "        v = unbind(self.Lv(Xxm))\n",
    "\n",
    "        # We feed q, k, and v to standard Multi-Head Dot Product Attention\n",
    "        o = MultiHeadDotProductAttention(q, k, v)\n",
    "\n",
    "        # Rebind to feed to the final learned layer,\n",
    "        o = einops.rearrange(o, '... k h-> ... (k h)', h=self.h)\n",
    "        return self.Lo(o)\n",
    "\n",
    "# Now we can run it on fake data;\n",
    "y, x, m, k, heads = [20], [22], [128], [16], 4\n",
    "# Internal Data\n",
    "Eym = torch.rand(y + m)\n",
    "# External Data\n",
    "Xxm = torch.rand(x + m)\n",
    "\n",
    "mha = MultiHeadAttention(m[0],k[0],heads)\n",
    "assert list(mha.forward(Eym, Xxm).size()) == y + m\n"
   ]
  },
  {
   "cell_type": "markdown",
   "metadata": {},
   "source": [
    "# 3.4 Computer Vision\n",
    "## Figure 15: Identity Residual Network\n",
    "<img src=\"SVG/Identity ResNet.svg\" width=\"700\">\n",
    "\n",
    "Here, we really start to understand why splitting diagrams into ``fenced off'' blocks aids implementation. \n",
    "In addition to making diagrams easier to understand and patterns more clearn, blocks indicate how code can structured and organized."
   ]
  },
  {
   "cell_type": "code",
   "execution_count": null,
   "metadata": {},
   "outputs": [],
   "source": [
    "# For Figure 15, every fenced off region is its own module.\n",
    "\n",
    "# Batch norm and then activate is a repeated motif,\n",
    "class NormActivate(nn.Sequential):\n",
    "    def __init__(self, nf, Norm=nn.BatchNorm2d, Activation=nn.ReLU):\n",
    "        super().__init__(Norm(nf), Activation())\n",
    "\n",
    "def size_to_string(size):\n",
    "    return \" \".join(map(str,list(size)))\n",
    "\n",
    "# The Identity ResNet block breaks down into a manageable sequence of components.\n",
    "class IdentityResNet(nn.Sequential):\n",
    "    def __init__(self, N=3, n_mu=[16,64,128,256], y=10):\n",
    "        super().__init__(\n",
    "            nn.Conv2d(3, n_mu[0], 3, padding=1),\n",
    "            Block(1, N, n_mu[0], n_mu[1]),\n",
    "            Block(2, N, n_mu[1], n_mu[2]),\n",
    "            Block(2, N, n_mu[2], n_mu[3]),\n",
    "            NormActivate(n_mu[3]),\n",
    "            nn.AdaptiveAvgPool2d(1),\n",
    "            nn.Flatten(),\n",
    "            nn.Linear(n_mu[3], y),\n",
    "            nn.Softmax(-1),\n",
    "            )"
   ]
  },
  {
   "cell_type": "markdown",
   "metadata": {},
   "source": [
    "<img src=\"SVG/Block.svg\" width=\"700\">\n",
    "\n",
    "The Block can be defined in a seperate model, keeping the code manageable and closely connected to the diagram."
   ]
  },
  {
   "cell_type": "code",
   "execution_count": null,
   "metadata": {},
   "outputs": [],
   "source": [
    "# We then follow how diagrams define each ``block''\n",
    "class Block(nn.Sequential):\n",
    "    def __init__(self, s, N, n0, n1):\n",
    "        \"\"\" n0 and n1 as inputs to the initializer are implicit from having them in the domain and codomain in the diagram. \"\"\"\n",
    "        nb = n1 // 4\n",
    "        super().__init__(\n",
    "            *[\n",
    "            NormActivate(n0),\n",
    "            ResidualConnection(\n",
    "                nn.Sequential(\n",
    "                    nn.Conv2d(n0, nb, 1, s),\n",
    "                    NormActivate(nb),\n",
    "                    nn.Conv2d(nb, nb, 3, padding=1),\n",
    "                    NormActivate(nb),\n",
    "                    nn.Conv2d(nb, n1, 1),\n",
    "                ),\n",
    "                nn.Conv2d(n0, n1, 1, s),\n",
    "            )\n",
    "            ] + [\n",
    "            ResidualConnection(\n",
    "                nn.Sequential(\n",
    "                    NormActivate(n1),\n",
    "                    nn.Conv2d(n1, nb, 1),\n",
    "                    NormActivate(nb),\n",
    "                    nn.Conv2d(nb, nb, 3, padding=1),\n",
    "                    NormActivate(nb),\n",
    "                    nn.Conv2d(nb, n1, 1)\n",
    "                ),\n",
    "                )\n",
    "            ] * N\n",
    "            \n",
    "            )   \n",
    "# Residual connections are a repeated pattern in the diagram. So, we are motivated to encapsulate them\n",
    "# as a seperate module.\n",
    "class ResidualConnection(nn.Module):\n",
    "    def __init__(self, mainline : nn.Module, connection : nn.Module | None = None) -> None:\n",
    "        super().__init__()\n",
    "        self.main = mainline\n",
    "        self.secondary = nn.Identity() if connection == None else connection\n",
    "    def forward(self, x):\n",
    "        return self.main(x) + self.secondary(x)"
   ]
  },
  {
   "cell_type": "code",
   "execution_count": null,
   "metadata": {},
   "outputs": [],
   "source": [
    "# A standard image processing algorithm has inputs shaped b c h w.\n",
    "b, c, hw = [3], [3], [16, 16]\n",
    "\n",
    "idresnet = IdentityResNet()\n",
    "Xbchw = torch.rand(b + c + hw)\n",
    "\n",
    "# And we see if the overall size is maintained,\n",
    "assert list(idresnet.forward(Xbchw).size()) == b + [10]"
   ]
  },
  {
   "cell_type": "markdown",
   "metadata": {},
   "source": [
    "## Figure 16: The UNet architecture\n",
    "<img src=\"SVG/unet.svg\" width=\"700\">\n",
    "\n",
    "The UNet is a more complicated algorithm than residual networks. This makes its diagram, and hence implementation, more complicated."
   ]
  },
  {
   "cell_type": "code",
   "execution_count": null,
   "metadata": {},
   "outputs": [],
   "source": [
    "# We notice that double convolution where the numbers of channels change is a repeated motif.\n",
    "# We denote the input with c0 and output with c1. \n",
    "# This can also be done for subsequent members of an iteration.\n",
    "# When we go down an iteration eg. 5, 4, etc. we may have the input be c1 and the output c0.\n",
    "class DoubleConvolution(nn.Sequential):\n",
    "    def __init__(self, c0, c1, Activation=nn.ReLU):\n",
    "        super().__init__(\n",
    "            nn.Conv2d(c0, c1, 3, padding=1),\n",
    "            Activation(),\n",
    "            nn.Conv2d(c0, c1, 3, padding=1),\n",
    "            Activation(),\n",
    "            )\n",
    "\n",
    "# The model is specified for a very specific number of layers,\n",
    "# so we will not make it very flexible.\n",
    "class UNet(nn.Module):\n",
    "    def __init__(self, y=2):\n",
    "        super().__init__()\n",
    "        # Set up the channel sizes;\n",
    "        c = [1 if i == 0 else 64 * 2 ** i for i in range(6)]\n",
    "\n",
    "        # Saving and loading from memory means we can not use a single,\n",
    "        # sequential chain.\n",
    "\n",
    "        # Set up and initialize the components;\n",
    "        self.DownScaleBlocks = [\n",
    "            DownScaleBlock(c[i],c[i+1])\n",
    "            for i in range(0,4)\n",
    "        ] # Note how this imitates the lambda operators in the diagram.\n",
    "        self.middleDoubleConvolution = DoubleConvolution(c[4], c[5])\n",
    "        self.middleUpscale = nn.ConvTranspose2d(c[5], c[4], 2, 2, 1)\n",
    "        self.upScaleBlocks = [\n",
    "            UpScaleBlock(c[5-i],c[4-i])\n",
    "            for i in range(1,4)\n",
    "        ]\n",
    "        self.finalConvolution = nn.Conv2d(c[1], y)\n",
    "\n",
    "    def forward(self, x):\n",
    "        cLambdas = []\n",
    "        for dsb in self.DownScaleBlocks:\n",
    "            x, cLambda = dsb(x)\n",
    "            cLambdas.append(cLambda)\n",
    "        x = self.middleDoubleConvolution(x)\n",
    "        x = self.middleUpscale(x)\n",
    "        for usb in self.upScaleBlocks:\n",
    "            cLambda = cLambdas.pop()\n",
    "            x = usb(x, cLambda)\n",
    "        x = self.finalConvolution(x)\n",
    "\n",
    "class DownScaleBlock(nn.Module):\n",
    "    def __init__(self, c0, c1) -> None:\n",
    "        super().__init__()\n",
    "        self.doubleConvolution = DoubleConvolution(c0, c1)\n",
    "        self.downScaler = nn.MaxPool2d(2, 2, 1)\n",
    "    def forward(self, x):\n",
    "        cLambda = self.doubleConvolution(x)\n",
    "        x = self.downScaler(cLambda)\n",
    "        return x, cLambda\n",
    "\n",
    "class UpScaleBlock(nn.Module):\n",
    "    def __init__(self, c1, c0) -> None:\n",
    "        super().__init__()\n",
    "        self.doubleConvolution = DoubleConvolution(2*c1, c1)\n",
    "        self.upScaler = nn.ConvTranspose2d(c1,c0,2,2,1)\n",
    "    def forward(self, x, cLambda):\n",
    "        # Concatenation occurs over the C channel axis (dim=1)\n",
    "        x = torch.concat(x, cLambda, 1)\n",
    "        x = self.doubleConvolution(x)\n",
    "        x = self.upScaler(x)\n",
    "        return x"
   ]
  },
  {
   "cell_type": "markdown",
   "metadata": {},
   "source": [
    "## Figure 17: Visual Attention\n",
    "<img src=\"SVG/visual_attention.svg\" width=\"700\">\n",
    "\n",
    "We adapt our code for Multi-Head Attention to apply it to the vision case.\n",
    "This is a good exercise in how Neural Circuit Diagrams allow code to be easily adapted for new modalities."
   ]
  },
  {
   "cell_type": "code",
   "execution_count": null,
   "metadata": {},
   "outputs": [
    {
     "data": {
      "text/plain": [
       "torch.Size([1, 33, 15, 15])"
      ]
     },
     "execution_count": 26,
     "metadata": {},
     "output_type": "execute_result"
    }
   ],
   "source": [
    "class VisualAttention(nn.Module):\n",
    "    def __init__(self, c, k, heads = 1, kernel = 1, stride = 1):\n",
    "        super().__init__()\n",
    "        \n",
    "        # w gives the kernel size, which we make adjustable.\n",
    "        self.c, self.k, self.h, self.w = c, k, heads, kernel\n",
    "        # Set up all the boldface, learned components\n",
    "        # Note how standard components may not have axes bound in \n",
    "        # the same way as diagrams. This requires us to rearrange\n",
    "        # using the einops package.\n",
    "\n",
    "        # The learned layers form convolutions\n",
    "        self.Cq = nn.Conv2d(c, k * heads, kernel, stride)\n",
    "        self.Ck = nn.Conv2d(c, k * heads, kernel, stride)\n",
    "        self.Cv = nn.Conv2d(c, k * heads, kernel, stride)\n",
    "        self.Co = nn.ConvTranspose2d(\n",
    "                            k * heads, c, kernel, stride)\n",
    "\n",
    "    # Defined previously, closely follows the diagram.\n",
    "    def MultiHeadDotProductAttention(self, q: tt, k: tt, v: tt) -> tt:\n",
    "        ''' ykh, xkh, xkh -> ykh '''\n",
    "        klength = k.size()[-2]\n",
    "        x = einops.einsum(q, k, '... y k h, ... x k h -> ... y x h')\n",
    "        x = torch.nn.Softmax(-2)(x / math.sqrt(klength))\n",
    "        x = einops.einsum(x, v, '... y x h, ... x k h -> ... y k h')\n",
    "        return x\n",
    "\n",
    "    # We have endogenous data (EYc) and external / injected data (XXc)\n",
    "    def forward(self, EcY, XcX):\n",
    "        \"\"\" cY, cX -> cY \n",
    "        The visual attention algorithm. Injects information from Xc into Yc. \"\"\"\n",
    "        # query, key, and value vectors.\n",
    "        # We unbind the k h axes which were produced by the convolutions, and feed them\n",
    "        # in the normal manner to MultiHeadDotProductAttention.\n",
    "        unbind = lambda x: einops.rearrange(x, 'N (k h) H W -> N (H W) k h', h=self.h)\n",
    "        # Save size to recover it later\n",
    "        q = self.Cq(EcY)\n",
    "        W = q.size()[-1]\n",
    "\n",
    "        # By appropriately managing the axes, minimal changes to our previous code\n",
    "        # is necessary.\n",
    "        q = unbind(q)\n",
    "        k = unbind(self.Ck(XcX))\n",
    "        v = unbind(self.Cv(XcX))\n",
    "        o = self.MultiHeadDotProductAttention(q, k, v)\n",
    "\n",
    "        # Rebind to feed to the transposed convolution layer.\n",
    "        o = einops.rearrange(o, 'N (H W) k h -> N (k h) H W', \n",
    "                             h=self.h, W=W)\n",
    "        return self.Co(o)\n",
    "\n",
    "# Single batch element,\n",
    "b = [1]\n",
    "Y, X, c, k = [16, 16], [16, 16], [33], 8\n",
    "# The additional configurations,\n",
    "heads, kernel, stride = 4, 3, 3\n",
    "\n",
    "# Internal Data,\n",
    "EYc = torch.rand(b + c + Y)\n",
    "# External Data,\n",
    "XXc = torch.rand(b + c + X)\n",
    "\n",
    "# We can now run the algorithm,\n",
    "visualAttention = VisualAttention(c[0], k, heads, kernel, stride)\n",
    "\n",
    "# Interestingly, the height/width reduces by 1 for stride\n",
    "# values above 1. Otherwise, it stays the same.\n",
    "visualAttention.forward(EYc, XXc).size()"
   ]
  },
  {
   "cell_type": "markdown",
   "metadata": {},
   "source": [
    "# Appendix"
   ]
  },
  {
   "cell_type": "code",
   "execution_count": null,
   "metadata": {},
   "outputs": [],
   "source": [
    "# A container to track the size of modules,\n",
    "class Tracker(nn.Module):\n",
    "    def __init__(self, module: nn.Module, name : str = \"\"):\n",
    "        super().__init__()\n",
    "        self.module = module\n",
    "        if name:\n",
    "            self.name = name\n",
    "        else:\n",
    "            self.name = self.module._get_name()\n",
    "    def forward(self, x):\n",
    "        x_size = size_to_string(x.size())\n",
    "        x = self.module.forward(x)\n",
    "        y_size = size_to_string(x.size())\n",
    "        print(f\"{self.name}: \\t {x_size} -> {y_size}\")\n",
    "        return x"
   ]
  }
 ],
 "metadata": {
  "kernelspec": {
   "display_name": "Python 3",
   "language": "python",
   "name": "python3"
  },
  "language_info": {
   "codemirror_mode": {
    "name": "ipython",
    "version": 3
   },
   "file_extension": ".py",
   "mimetype": "text/x-python",
   "name": "python",
   "nbconvert_exporter": "python",
   "pygments_lexer": "ipython3",
   "version": "3.10.11"
  },
  "orig_nbformat": 4
 },
 "nbformat": 4,
 "nbformat_minor": 2
}
