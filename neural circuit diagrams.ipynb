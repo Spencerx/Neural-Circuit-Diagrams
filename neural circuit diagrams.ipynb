{
 "cells": [
  {
   "cell_type": "code",
   "execution_count": 1,
   "metadata": {},
   "outputs": [],
   "source": [
    "import torch\n",
    "import typing\n",
    "import functorch"
   ]
  },
  {
   "cell_type": "markdown",
   "metadata": {},
   "source": [
    "# 2.4 Broadcasting"
   ]
  },
  {
   "cell_type": "code",
   "execution_count": null,
   "metadata": {},
   "outputs": [],
   "source": [
    "a = [3]\n",
    "b = [4]\n",
    "c = [5]\n",
    "\n",
    "Xa = torch.rand(a)\n",
    "# F: a -> b\n",
    "def F(Xa: torch.Tensor) -> torch.Tensor:\n",
    "    return sum(Xa**2)\n",
    "\n",
    "# This broadcasts F over an arbitrary size.\n",
    "# F: * a -> * b\n",
    "Fxc = functorch.vmap(F)\n",
    "\n",
    "# Tensoring shapes uses the + symbol.\n",
    "Xac = torch.rand(a + c)\n",
    "\n",
    "# We can show Definition 2.13 by,\n",
    "for i in range(c[0]):\n",
    "    assert F(Xac[:,i])==Fxc(Xac)[:,i]\n",
    "\n",
    "def Fxc1(Xac: torch.Tensor) -> torch.Tensor:\n",
    "    Xbc = torch.zeros()"
   ]
  }
 ],
 "metadata": {
  "kernelspec": {
   "display_name": "Python 3",
   "language": "python",
   "name": "python3"
  },
  "language_info": {
   "codemirror_mode": {
    "name": "ipython",
    "version": 3
   },
   "file_extension": ".py",
   "mimetype": "text/x-python",
   "name": "python",
   "nbconvert_exporter": "python",
   "pygments_lexer": "ipython3",
   "version": "3.10.11"
  },
  "orig_nbformat": 4
 },
 "nbformat": 4,
 "nbformat_minor": 2
}
